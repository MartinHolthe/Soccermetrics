{
 "cells": [
  {
   "cell_type": "code",
   "execution_count": null,
   "metadata": {},
   "outputs": [],
   "source": [
    "# Importing numpy, pandas, math and matplotlib libraries and setting default fonts\n",
    "\n",
    "import numpy as np\n",
    "import pandas as pd\n",
    "import os\n",
    "import math\n",
    "import decimal\n",
    "import matplotlib\n",
    "import matplotlib.image as image\n",
    "from matplotlib import artist\n",
    "from matplotlib import pyplot as plt\n",
    "from matplotlib import rcParams\n",
    "import ipywidgets\n",
    "from ipywidgets import interact, IntSlider, interactive, widgets, interact_manual,HBox,fixed\n",
    "from IPython.display import HTML\n",
    "import warnings\n",
    "warnings.filterwarnings('ignore')\n",
    "layout = widgets.Layout(width='400px', height='30px')\n",
    "pd.options.display.float_format = \"{:.2f}\".format\n",
    "from pandas.plotting import register_matplotlib_converters\n",
    "register_matplotlib_converters()\n",
    "rcParams['font.family'] = 'sans-serif'\n",
    "rcParams['font.sans-serif'] = ['Franklin Gothic Medium', 'Franklin Gothic Book']\n",
    "%matplotlib inline"
   ]
  },
  {
   "cell_type": "code",
   "execution_count": null,
   "metadata": {},
   "outputs": [],
   "source": [
    "#from IPython.core.display import display, HTML\n",
    "#display(HTML(\"<style>.container { width:100% !important; }</style>\"))"
   ]
  },
  {
   "cell_type": "code",
   "execution_count": null,
   "metadata": {},
   "outputs": [],
   "source": [
    "Rotelle = pd.read_csv('Player_Stats_PL.csv', index_col=0) #husk å sette denne til 1 om det ikke funker\n",
    "\n",
    "Rotelle = Rotelle.fillna(0)\n",
    "\n",
    "# To display all columns and rows\n",
    "pd.set_option('display.max_columns', None)  \n",
    "pd.set_option('display.max_rows', None) \n",
    "\n",
    "Rotelle['90s'] = Rotelle['minutes']/90"
   ]
  },
  {
   "cell_type": "code",
   "execution_count": null,
   "metadata": {},
   "outputs": [],
   "source": [
    "minutes_position_filtered = (Rotelle['minutes'] >= 90)  & (Rotelle['position'].str.startswith('FW'))\n",
    "df = Rotelle.loc[minutes_position_filtered, ['player', 'squad', 'minutes', 'position', 'passes_pct', 'progressive_passes', 'passes_into_final_third', 'passes_into_penalty_area', 'assisted_shots','passes_pressure', 'miscontrols', 'dispossessed', 'dribbles_completed_pct', 'dribbles_completed', 'carry_progressive_distance', 'carries', 'carries_into_final_third','touches_att_3rd', 'touches_att_pen_area','carries_into_penalty_area', 'pass_targets', 'passes_received_pct', 'passes_received', 'gca_per90', 'sca_per90', 'xg_per90', 'npxg_per90','xa_per90', 'npxg_xa_per90', 'xa_net', 'npxg_net','npxg_per_shot', 'shots_on_target_pct', 'aerials_won_pct','aerials_won', 'tackles_won', 'tackles', 'interceptions', 'ball_recoveries', 'pressure_regain_pct', 'dribbled_past', '90s']] #Do not touch this line!!\n",
    "minutes_filteret = df.set_index('player')\n",
    "\n",
    "minutes_filteret.head(5)"
   ]
  },
  {
   "cell_type": "code",
   "execution_count": null,
   "metadata": {},
   "outputs": [],
   "source": [
    "passing_percentiles = pd.DataFrame()\n",
    "passing_percentiles['squad'] = minutes_filteret['squad']\n",
    "\n",
    "#Passing stats\n",
    "passing_percentiles['Pass\\nCompletion %'] = minutes_filteret['passes_pct'].rank(pct=True)*100\n",
    "passing_percentiles['Pressured Passes\\nPer 90'] = minutes_filteret['passes_pressure'].rank(pct=True)*100\n",
    "passing_percentiles['Progressive Passes\\nPer 90'] = \\\n",
    "    (minutes_filteret['progressive_passes']/minutes_filteret['90s']).rank(pct=True)*100\n",
    "passing_percentiles['Successful Deliveries\\nInto Box Per 90'] = \\\n",
    "    (minutes_filteret['passes_into_penalty_area']/minutes_filteret['90s']).rank(pct=True)*100\n",
    "passing_percentiles['Key Passes\\n Per 90'] = \\\n",
    "    (minutes_filteret['assisted_shots']/minutes_filteret['90s']).rank(pct=True)*100\n",
    "\n",
    "\n",
    "#Possesion stats\n",
    "passing_percentiles['Rate Adj Target of an\\nAttempted Pass'] =\\\n",
    "    (minutes_filteret['passes_received']*minutes_filteret['passes_received_pct']).rank(pct=True)*100     \n",
    "passing_percentiles['Turnovers\\nPer 90'] = \\\n",
    "    ((minutes_filteret['miscontrols']+minutes_filteret['dispossessed'])/minutes_filteret['90s']).rank(pct=True, ascending=False)*100\n",
    "passing_percentiles['Rate Adj Successful\\nDribbles Per 90'] =\\\n",
    "    (minutes_filteret['dribbles_completed']*minutes_filteret['dribbles_completed_pct']/ \\\n",
    "    minutes_filteret['90s']).rank(pct=True)*100                                          \n",
    "passing_percentiles['Progressive Distance\\nPer Carry'] = \\\n",
    "    (minutes_filteret['carry_progressive_distance']/minutes_filteret['carries']).rank(pct=True)*100\n",
    "passing_percentiles['Penalty Area\\nEntries'] = minutes_filteret['carries_into_penalty_area'].rank(pct=True)*100\n",
    "passing_percentiles['Touches in\\nBox'] = minutes_filteret['touches_att_pen_area'].rank(pct=True)*100\n",
    "\n",
    "\n",
    "#Contribution stats\n",
    "passing_percentiles['GCA\\nPer 90'] = minutes_filteret['gca_per90'].rank(pct=True)*100\n",
    "passing_percentiles['SCA\\nPer 90'] = minutes_filteret['sca_per90'].rank(pct=True)*100\n",
    "passing_percentiles['xA\\nPer 90'] = minutes_filteret['xa_per90'].rank(pct=True)*100\n",
    "passing_percentiles['Non-Penalty\\nxG Per 90'] = minutes_filteret['npxg_per90'].rank(pct=True)*100\n",
    "passing_percentiles['Non-Penalty\\nxA + xG Per 90'] = minutes_filteret['npxg_xa_per90'].rank(pct=True)*100 \n",
    "passing_percentiles['xG\\nPer Shot'] = minutes_filteret['npxg_per_shot'].rank(pct=True)*100\n",
    "passing_percentiles['Netto xG'] = minutes_filteret['npxg_net'].rank(pct=True)*100 \n",
    "\n",
    "\n",
    "#Defening stats\n",
    "passing_percentiles['Rate Adj\\nAerials Won %'] = \\\n",
    "    (minutes_filteret['aerials_won']*minutes_filteret['aerials_won_pct']).rank(pct=True)*100     \n",
    "passing_percentiles['Ball recoveries\\nPer 90'] = \\\n",
    "    (minutes_filteret['ball_recoveries']/minutes_filteret['90s']).rank(pct=True)*100    \n",
    "passing_percentiles['Interceptions\\nPer 90'] = \\\n",
    "    (minutes_filteret['interceptions']/minutes_filteret['90s']).rank(pct=True)*100 \n",
    "passing_percentiles['Pressure\\nRegain %'] = minutes_filteret['pressure_regain_pct'].rank(pct=True)*100\n",
    "passing_percentiles['Rate Adj Tackles\\n Won %'] = \\\n",
    "    ((minutes_filteret['tackles_won'])*(minutes_filteret['tackles_won']/minutes_filteret['tackles'])).rank(pct=True)*100\n",
    "passing_percentiles['Dribbled Past'] = minutes_filteret['dribbled_past'].rank(pct=True, ascending=False)*100\n",
    "                                          \n",
    "passing_percentiles['minutes'] = minutes_filteret['minutes']\n",
    "passing_percentiles['position'] = minutes_filteret['position']\n",
    "passing_percentiles['90s'] = minutes_filteret['90s']"
   ]
  },
  {
   "cell_type": "code",
   "execution_count": null,
   "metadata": {},
   "outputs": [],
   "source": [
    "passing_percentiles['minutes'] = passing_percentiles['minutes'].astype(int)\n",
    "passing_percentiles['minutes'] = passing_percentiles['minutes'].astype(str)\n",
    "passing_percentiles = passing_percentiles.fillna(0)\n",
    "passing_percentiles.head(500)"
   ]
  },
  {
   "cell_type": "code",
   "execution_count": null,
   "metadata": {},
   "outputs": [],
   "source": [
    "def label_adjuster(i):\n",
    "    \n",
    "    if i <= 50: #Everything under this percentile will be pushed to a 100 - outside the chart\n",
    "        return 101\n",
    "    else:\n",
    "        return -10"
   ]
  },
  {
   "cell_type": "code",
   "execution_count": null,
   "metadata": {},
   "outputs": [],
   "source": [
    "def percentile_chart(player_name):\n",
    "    \n",
    "    # Creates bars based on the player entered\n",
    "    theta = list(map((lambda x: x*math.pi/24), list(range(1,49,2))))\n",
    "    radii = list(passing_percentiles.loc[player_name][1:25])\n",
    "    width = [math.pi/12]*len(radii)\n",
    "    \n",
    "    # Aesthetic details of the figure including color, axis tick size, x value specifics\n",
    "    # and r-axis limits, etc.\n",
    "    plt.figure(figsize=(10,10), facecolor = '#37474f')\n",
    "    ax = plt.subplot(111, projection='polar')\n",
    "    ax.set_facecolor('#37474f')\n",
    "    #ax = plt.subplot(111, projection='polar')\n",
    "    ax.grid(True)\n",
    "    ax.xaxis.grid(linewidth=2.5, color='xkcd:white')\n",
    "    ax.yaxis.grid(linewidth=1.5, color='xkcd:white', alpha=0.3)\n",
    "    ax.tick_params(axis='x', colors='#37474f')\n",
    "    ax.tick_params(axis='y', colors='#37474f')\n",
    "    ax.set_rlim(0,100)\n",
    "    ax.spines['polar'].set_color('xkcd:white')\n",
    "    ax.spines['polar'].set_linewidth(3)\n",
    "    ax.set_rlabel_position(0)\n",
    "    ax.set_rticks([25,50,75])\n",
    "    ax.tick_params(labelsize=0)\n",
    "    labels = plt.thetagrids(range(0, 360, 15), ('','','','','','','','','','','','','','','','','','','','','','','',''))\n",
    "    ax.spines['polar'].set_color('xkcd:white')\n",
    "    ax.spines['polar'].set_linewidth(2.5)\n",
    "    ax.set_rorigin(-15)\n",
    "  \n",
    "   \n",
    "    # Aesthetic details of the bars and chart titles based on player name\n",
    "    ax.bar(theta, radii, width, color=['#ffba08','#ffba08','#ffba08','#ffba08','#ffba08','#219ebc','#219ebc','#219ebc','#219ebc','#219ebc','#219ebc','#ef233c','#ef233c','#ef233c','#ef233c','#ef233c','#ef233c','#ef233c','#2a9d8f','#2a9d8f', '#2a9d8f', '#2a9d8f', '#2a9d8f','#2a9d8f'], \\\n",
    "           alpha=0.7, edgecolor='xkcd:white', linewidth=0.5)\n",
    "    ax.set_title('\\n'+player_name+' - Performance Overview\\n\\n\\n', \\\n",
    "                 color='xkcd:white', fontsize=26) \n",
    "    plt.text(0.5, 1.13, \"Position: \" + r\"$\\bf{\" + passing_percentiles.at[player_name, 'position'] + \"}$\" + \" || \" + \" Minutes Played: \" + r\"$\\bf{\" + passing_percentiles.at[player_name, 'minutes'] + \"}$\" + \" || \" + \" Club: \" + r\"$\\bf{\" + passing_percentiles.at[player_name, 'squad'] + \"}$\", \\\n",
    "         horizontalalignment='center', verticalalignment='top', color='#ef233c', size='17', \\\n",
    "             transform=ax.transAxes)\n",
    "\n",
    "    l = list(passing_percentiles)\n",
    "    \n",
    "    #Adds text to the chart in necessary places\n",
    "    #plt.text(-0.2, -0.1, 'Data obtained from FBRef.com', \\\n",
    "         #horizontalalignment='left', verticalalignment='top', color='xkcd:black', \\\n",
    "             #transform=ax.transAxes, size='14')\n",
    "    #plt.text(0.5, 1.22, \"Percentile Rankings vs MF and FW in Same League, 2020/21\", \\\n",
    "         #horizontalalignment='center', verticalalignment='top', color='#212f45', size='14', \\\n",
    "             #transform=ax.transAxes)\n",
    "    #plt.text(1.2, -0.075, '\\nExcludes players with <1200 minutes', \\\n",
    "        #horizontalalignment='right', verticalalignment='top', color='xkcd:black', \\\n",
    "             #style='italic', transform=ax.transAxes, size='14')\n",
    "\n",
    "    \n",
    "    #fixing bars lables\n",
    "    plt.text(1.1, 0.57, l[1], \\\n",
    "         horizontalalignment='center', verticalalignment='top', color='xkcd:white',\\\n",
    "             transform=ax.transAxes, size='13',)\n",
    "    plt.text(1.08, 0.7, l[2], \\\n",
    "         horizontalalignment='center', verticalalignment='center', color='xkcd:white',\\\n",
    "             transform=ax.transAxes, size='13',)\n",
    "    plt.text(1, 0.83, l[3], \\\n",
    "         horizontalalignment='center', verticalalignment='center', color='xkcd:white',\\\n",
    "             transform=ax.transAxes, size='13')\n",
    "    plt.text(0.91, 0.93, l[4], \\\n",
    "         horizontalalignment='center', verticalalignment='center', color='xkcd:white',\\\n",
    "             transform=ax.transAxes, size='13')\n",
    "    plt.text(0.76, 1.00, l[5], \\\n",
    "         horizontalalignment='center', verticalalignment='center', color='xkcd:white',\\\n",
    "             transform=ax.transAxes, size='13')\n",
    "    plt.text(0.59, 1.055, l[6], \\\n",
    "         horizontalalignment='center', verticalalignment='center', color='xkcd:white',\\\n",
    "             transform=ax.transAxes, size='13')\n",
    "    plt.text(0.40, 1.055, l[7], \\\n",
    "         horizontalalignment='center', verticalalignment='center', color='xkcd:white',\\\n",
    "             transform=ax.transAxes, size='13')\n",
    "    plt.text(0.24, 1.02, l[8], \\\n",
    "         horizontalalignment='center', verticalalignment='center', color='xkcd:white',\\\n",
    "             transform=ax.transAxes, size='13')\n",
    "    plt.text(0.1, 0.93, l[9], \\\n",
    "         horizontalalignment='center', verticalalignment='center', color='xkcd:white',\\\n",
    "             transform=ax.transAxes, size='13')\n",
    "    plt.text(0.01, 0.83, l[10], \\\n",
    "         horizontalalignment='center', verticalalignment='center', color='xkcd:white',\\\n",
    "             transform=ax.transAxes, size='13')\n",
    "    plt.text(-0.05, 0.7, l[11], \\\n",
    "         horizontalalignment='center', verticalalignment='center', color='xkcd:white',\\\n",
    "             transform=ax.transAxes, size='13')\n",
    "    plt.text(-0.09, 0.57, l[12], \\\n",
    "         horizontalalignment='center', verticalalignment='center', color='xkcd:white',\\\n",
    "             transform=ax.transAxes, size='13')\n",
    "    plt.text(-0.08, 0.42, l[13], \\\n",
    "         horizontalalignment='center', verticalalignment='center', color='xkcd:white',\\\n",
    "             transform=ax.transAxes, size='13')\n",
    "    plt.text(-0.03, 0.29, l[14], \\\n",
    "         horizontalalignment='center', verticalalignment='center', color='xkcd:white',\\\n",
    "             transform=ax.transAxes, size='13') \n",
    "    plt.text(0.028, 0.16, l[15], \\\n",
    "         horizontalalignment='center', verticalalignment='center', color='xkcd:white',\\\n",
    "             transform=ax.transAxes, size='13') \n",
    "    plt.text(0.13, 0.06, l[16], \\\n",
    "         horizontalalignment='center', verticalalignment='center', color='xkcd:white',\\\n",
    "             transform=ax.transAxes, size='13') \n",
    "    plt.text(0.27, -0.02, l[17], \\\n",
    "         horizontalalignment='center', verticalalignment='center', color='xkcd:white',\\\n",
    "             transform=ax.transAxes, size='13')\n",
    "    plt.text(0.43, -0.04, l[18], \\\n",
    "         horizontalalignment='center', verticalalignment='center', color='xkcd:white',\\\n",
    "             transform=ax.transAxes, size='13')\n",
    "    plt.text(0.58, -0.04, l[19], \\\n",
    "         horizontalalignment='center', verticalalignment='center', color='xkcd:white',\\\n",
    "             transform=ax.transAxes, size='13')\n",
    "    plt.text(0.73, -0.02, l[20], \\\n",
    "         horizontalalignment='center', verticalalignment='center', color='xkcd:white',\\\n",
    "             transform=ax.transAxes, size='13')\n",
    "    plt.text(0.89, 0.063, l[21], \\\n",
    "         horizontalalignment='center', verticalalignment='center', color='xkcd:white',\\\n",
    "             transform=ax.transAxes, size='13')\n",
    "    plt.text(1, 0.17, l[22], \\\n",
    "         horizontalalignment='center', verticalalignment='center', color='xkcd:white',\\\n",
    "             transform=ax.transAxes, size='13') \n",
    "    plt.text(1.07, 0.3, l[23], \\\n",
    "         horizontalalignment='center', verticalalignment='center', color='xkcd:white',\\\n",
    "             transform=ax.transAxes, size='13') \n",
    "    plt.text(1.09, 0.42, l[24], \\\n",
    "         horizontalalignment='center', verticalalignment='center', color='xkcd:white',\\\n",
    "             transform=ax.transAxes, size='13')          \n",
    "\n",
    "    \n",
    "    # Annotating bar labels with their values\n",
    "    for i in [0,1,2,3,4,5,6,7,8,9,10,11,12,13,14,15,16,17,18,19,20,21,22,23]:\n",
    "        plt.annotate(str(int(round(radii[i])))+\"%\", (theta[i], radii[i]+label_adjuster(radii[i])), color='xkcd:white', \\\n",
    "                horizontalalignment='center', fontsize=14)\n",
    "    \n",
    "   \n",
    "    plt.tight_layout()\n",
    "    plt.subplots_adjust(left=0.12, right=0.85, top=0.85, bottom=0.08)\n",
    "    #plt.show() If saving pic this needs to be hashed out"
   ]
  },
  {
   "cell_type": "code",
   "execution_count": null,
   "metadata": {},
   "outputs": [],
   "source": [
    "percentile_chart('Pierre-Emerick Aubameyang') "
   ]
  },
  {
   "cell_type": "code",
   "execution_count": null,
   "metadata": {
    "scrolled": false
   },
   "outputs": [],
   "source": [
    "#Arsenal\n",
    "\n",
    "percentile_chart('Pierre-Emerick Aubameyang') \n",
    "plt.savefig(r'C:\\Users\\Marti\\OneDrive\\Skrivebord\\Prototype\\Frontend\\Angular\\src\\assets\\PL_DataBase\\Arsenal FC\\FW\\Pierre-Emerick Aubameyang.png', transparent=True, dpi=72)\n",
    "\n",
    "percentile_chart('Alexandre Lacazette') \n",
    "plt.savefig(r'C:\\Users\\Marti\\OneDrive\\Skrivebord\\Prototype\\Frontend\\Angular\\src\\assets\\PL_DataBase\\Arsenal FC\\FW\\Alexandre Lacazette.png', transparent=True, dpi=72)\n",
    "\n",
    "percentile_chart('Martinelli') \n",
    "plt.savefig(r'C:\\Users\\Marti\\OneDrive\\Skrivebord\\Prototype\\Frontend\\Angular\\src\\assets\\PL_DataBase\\Arsenal FC\\FW\\Martinelli.png', transparent=True, dpi=72)\n",
    "\n",
    "percentile_chart('Eddie Nketiah') \n",
    "plt.savefig(r'C:\\Users\\Marti\\OneDrive\\Skrivebord\\Prototype\\Frontend\\Angular\\src\\assets\\PL_DataBase\\Arsenal FC\\FW\\Eddie Nketiah.png', transparent=True, dpi=72)\n",
    "\n",
    "percentile_chart('Nicolas Pépé') \n",
    "plt.savefig(r'C:\\Users\\Marti\\OneDrive\\Skrivebord\\Prototype\\Frontend\\Angular\\src\\assets\\PL_DataBase\\Arsenal FC\\FW\\Nicolas Pépé.png', transparent=True, dpi=72)\n",
    "\n",
    "percentile_chart('Bukayo Saka') \n",
    "plt.savefig(r'C:\\Users\\Marti\\OneDrive\\Skrivebord\\Prototype\\Frontend\\Angular\\src\\assets\\PL_DataBase\\Arsenal FC\\FW\\Bukayo Saka.png', transparent=True, dpi=72)\n",
    "\n",
    "percentile_chart('Willian') \n",
    "plt.savefig(r'C:\\Users\\Marti\\OneDrive\\Skrivebord\\Prototype\\Frontend\\Angular\\src\\assets\\PL_DataBase\\Arsenal FC\\FW\\Willian.png', transparent=True, dpi=72)"
   ]
  },
  {
   "cell_type": "code",
   "execution_count": null,
   "metadata": {
    "scrolled": false
   },
   "outputs": [],
   "source": [
    "#Aston Villa\n",
    "\n",
    "percentile_chart('Anwar El Ghazi') \n",
    "plt.savefig(r'C:\\Users\\Marti\\OneDrive\\Skrivebord\\Prototype\\Frontend\\Angular\\src\\assets\\PL_DataBase\\Aston Villa\\FW\\Anwar El Ghazi.png', transparent=True, dpi=72)\n",
    "\n",
    "percentile_chart('Jack Grealish') \n",
    "plt.savefig(r'C:\\Users\\Marti\\OneDrive\\Skrivebord\\Prototype\\Frontend\\Angular\\src\\assets\\PL_DataBase\\Aston Villa\\FW\\Jack Grealish.png', transparent=True, dpi=72)\n",
    "\n",
    "percentile_chart('Bertrand Traoré') \n",
    "plt.savefig(r'C:\\Users\\Marti\\OneDrive\\Skrivebord\\Prototype\\Frontend\\Angular\\src\\assets\\PL_DataBase\\Aston Villa\\FW\\Bertrand Traoré.png', transparent=True, dpi=72)\n",
    "\n",
    "percentile_chart('Trézéguet') \n",
    "plt.savefig(r'C:\\Users\\Marti\\OneDrive\\Skrivebord\\Prototype\\Frontend\\Angular\\src\\assets\\PL_DataBase\\Aston Villa\\FW\\Trézéguet.png', transparent=True, dpi=72)\n",
    "\n",
    "percentile_chart('Ollie Watkins') \n",
    "plt.savefig(r'C:\\Users\\Marti\\OneDrive\\Skrivebord\\Prototype\\Frontend\\Angular\\src\\assets\\PL_DataBase\\Aston Villa\\FW\\Ollie Watkins.png', transparent=True, dpi=72)"
   ]
  },
  {
   "cell_type": "code",
   "execution_count": null,
   "metadata": {
    "scrolled": false
   },
   "outputs": [],
   "source": [
    "#Brighton\n",
    "\n",
    "percentile_chart('Aaron Connolly') \n",
    "plt.savefig(r'C:\\Users\\Marti\\OneDrive\\Skrivebord\\Prototype\\Frontend\\Angular\\src\\assets\\PL_DataBase\\Brighton\\FW\\Aaron Connolly.png', transparent=True, dpi=72)\n",
    "\n",
    "percentile_chart('Alireza Jahanbakhsh') \n",
    "plt.savefig(r'C:\\Users\\Marti\\OneDrive\\Skrivebord\\Prototype\\Frontend\\Angular\\src\\assets\\PL_DataBase\\Brighton\\FW\\Alireza Jahanbakhsh.png', transparent=True, dpi=72)\n",
    "\n",
    "percentile_chart('Neal Maupay') \n",
    "plt.savefig(r'C:\\Users\\Marti\\OneDrive\\Skrivebord\\Prototype\\Frontend\\Angular\\src\\assets\\PL_DataBase\\Brighton\\FW\\Neal Maupay.png', transparent=True, dpi=72)\n",
    "\n",
    "percentile_chart('Leandro Trossard') \n",
    "plt.savefig(r'C:\\Users\\Marti\\OneDrive\\Skrivebord\\Prototype\\Frontend\\Angular\\src\\assets\\PL_DataBase\\Brighton\\FW\\Leandro Trossard.png', transparent=True, dpi=72)"
   ]
  },
  {
   "cell_type": "code",
   "execution_count": null,
   "metadata": {
    "scrolled": false
   },
   "outputs": [],
   "source": [
    "#Burnley\n",
    "\n",
    "percentile_chart('Ashley Barnes') \n",
    "plt.savefig(r'C:\\Users\\Marti\\OneDrive\\Skrivebord\\Prototype\\Frontend\\Angular\\src\\assets\\PL_DataBase\\Burnley\\FW\\Ashley Barnes.png', transparent=True, dpi=72)\n",
    "\n",
    "percentile_chart('Jay Rodriguez') \n",
    "plt.savefig(r'C:\\Users\\Marti\\OneDrive\\Skrivebord\\Prototype\\Frontend\\Angular\\src\\assets\\PL_DataBase\\Burnley\\FW\\Jay Rodriguez.png', transparent=True, dpi=72)\n",
    "\n",
    "percentile_chart('Matěj Vydra') \n",
    "plt.savefig(r'C:\\Users\\Marti\\OneDrive\\Skrivebord\\Prototype\\Frontend\\Angular\\src\\assets\\PL_DataBase\\Burnley\\FW\\Matěj Vydra.png', transparent=True, dpi=72)\n",
    "\n",
    "percentile_chart('Chris Wood') \n",
    "plt.savefig(r'C:\\Users\\Marti\\OneDrive\\Skrivebord\\Prototype\\Frontend\\Angular\\src\\assets\\PL_DataBase\\Burnley\\FW\\Chris Wood.png', transparent=True, dpi=72)"
   ]
  },
  {
   "cell_type": "code",
   "execution_count": null,
   "metadata": {
    "scrolled": false
   },
   "outputs": [],
   "source": [
    "#Chelsea\n",
    "\n",
    "percentile_chart('Tammy Abraham') \n",
    "plt.savefig(r'C:\\Users\\Marti\\OneDrive\\Skrivebord\\Prototype\\Frontend\\Angular\\src\\assets\\PL_DataBase\\Chelsea\\FW\\Tammy Abraham.png', transparent=True, dpi=72)\n",
    "\n",
    "percentile_chart('Olivier Giroud') \n",
    "plt.savefig(r'C:\\Users\\Marti\\OneDrive\\Skrivebord\\Prototype\\Frontend\\Angular\\src\\assets\\PL_DataBase\\Chelsea\\FW\\Olivier Giroud.png', transparent=True, dpi=72)\n",
    "\n",
    "percentile_chart(\"Callum Hudson-Odoi\") \n",
    "plt.savefig(r'C:\\Users\\Marti\\OneDrive\\Skrivebord\\Prototype\\Frontend\\Angular\\src\\assets\\PL_DataBase\\Chelsea\\FW\\Callum Hudson-Odoi.png', transparent=True, dpi=72)\n",
    "\n",
    "percentile_chart('Hakim Ziyech') \n",
    "plt.savefig(r'C:\\Users\\Marti\\OneDrive\\Skrivebord\\Prototype\\Frontend\\Angular\\src\\assets\\PL_DataBase\\Chelsea\\FW\\Hakim Ziyech.png', transparent=True, dpi=72)\n",
    "\n",
    "percentile_chart('Christian Pulisic') \n",
    "plt.savefig(r'C:\\Users\\Marti\\OneDrive\\Skrivebord\\Prototype\\Frontend\\Angular\\src\\assets\\PL_DataBase\\Chelsea\\FW\\Christian Pulisic.png', transparent=True, dpi=72)\n",
    "\n",
    "percentile_chart('Timo Werner') \n",
    "plt.savefig(r'C:\\Users\\Marti\\OneDrive\\Skrivebord\\Prototype\\Frontend\\Angular\\src\\assets\\PL_DataBase\\Chelsea\\FW\\Timo Werner.png', transparent=True, dpi=72)"
   ]
  },
  {
   "cell_type": "code",
   "execution_count": null,
   "metadata": {
    "scrolled": false
   },
   "outputs": [],
   "source": [
    "#Crystal Palace\n",
    "\n",
    "percentile_chart('Jordan Ayew') \n",
    "plt.savefig(r'C:\\Users\\Marti\\OneDrive\\Skrivebord\\Prototype\\Frontend\\Angular\\src\\assets\\PL_DataBase\\Crystal Palace\\FW\\Jordan Ayew.png', transparent=True, dpi=72)\n",
    "\n",
    "percentile_chart('Michy Batshuayi') \n",
    "plt.savefig(r'C:\\Users\\Marti\\OneDrive\\Skrivebord\\Prototype\\Frontend\\Angular\\src\\assets\\PL_DataBase\\Crystal Palace\\FW\\Michy Batshuayi.png', transparent=True, dpi=72)\n",
    "\n",
    "percentile_chart('Christian Benteke') \n",
    "plt.savefig(r'C:\\Users\\Marti\\OneDrive\\Skrivebord\\Prototype\\Frontend\\Angular\\src\\assets\\PL_DataBase\\Crystal Palace\\FW\\Christian Benteke.png', transparent=True, dpi=72)\n",
    "\n",
    "percentile_chart('Jean-Philippe Mateta') \n",
    "plt.savefig(r'C:\\Users\\Marti\\OneDrive\\Skrivebord\\Prototype\\Frontend\\Angular\\src\\assets\\PL_DataBase\\Crystal Palace\\FW\\Jean-Philippe Mateta.png', transparent=True, dpi=72)\n",
    "\n",
    "percentile_chart('Wilfried Zaha') \n",
    "plt.savefig(r'C:\\Users\\Marti\\OneDrive\\Skrivebord\\Prototype\\Frontend\\Angular\\src\\assets\\PL_DataBase\\Crystal Palace\\FW\\Wilfried Zaha.png', transparent=True, dpi=72)"
   ]
  },
  {
   "cell_type": "code",
   "execution_count": null,
   "metadata": {
    "scrolled": false
   },
   "outputs": [],
   "source": [
    "#Everton\n",
    "\n",
    "#percentile_chart('Bernard') \n",
    "#plt.savefig(r'C:\\Users\\Marti\\OneDrive\\Skrivebord\\Prototype\\Frontend\\Angular\\src\\assets\\PL_DataBase\\Everton\\FW\\Bernard.png', transparent=True, dpi=72)\n",
    "\n",
    "percentile_chart('Dominic Calvert-Lewin')\n",
    "plt.savefig(r'C:\\Users\\Marti\\OneDrive\\Skrivebord\\Prototype\\Frontend\\Angular\\src\\assets\\PL_DataBase\\Everton\\FW\\Dominic Calvert-Lewin.png', transparent=True, dpi=72)\n",
    "\n",
    "percentile_chart('Alex Iwobi') \n",
    "plt.savefig(r'C:\\Users\\Marti\\OneDrive\\Skrivebord\\Prototype\\Frontend\\Angular\\src\\assets\\PL_DataBase\\Everton\\FW\\Alex Iwobi.png', transparent=True, dpi=72)\n",
    "\n",
    "percentile_chart('Richarlison') \n",
    "plt.savefig(r'C:\\Users\\Marti\\OneDrive\\Skrivebord\\Prototype\\Frontend\\Angular\\src\\assets\\PL_DataBase\\Everton\\FW\\Richarlison.png', transparent=True, dpi=72)\n",
    "\n",
    "percentile_chart('James Rodríguez') \n",
    "plt.savefig(r'C:\\Users\\Marti\\OneDrive\\Skrivebord\\Prototype\\Frontend\\Angular\\src\\assets\\PL_DataBase\\Everton\\FW\\James Rodríguez.png', transparent=True, dpi=72)"
   ]
  },
  {
   "cell_type": "code",
   "execution_count": null,
   "metadata": {
    "scrolled": false
   },
   "outputs": [],
   "source": [
    "#Fulham\n",
    "\n",
    "percentile_chart('Ivan Cavaleiro') \n",
    "plt.savefig(r'C:\\Users\\Marti\\OneDrive\\Skrivebord\\Prototype\\Frontend\\Angular\\src\\assets\\PL_DataBase\\Fulham\\FW\\Ivan Cavaleiro.png', transparent=True, dpi=72)\n",
    "\n",
    "percentile_chart('Aboubakar Kamara') \n",
    "plt.savefig(r'C:\\Users\\Marti\\OneDrive\\Skrivebord\\Prototype\\Frontend\\Angular\\src\\assets\\PL_DataBase\\Fulham\\FW\\Aboubakar Kamara.png', transparent=True, dpi=72)\n",
    "\n",
    "percentile_chart('Neeskens Kebano') \n",
    "plt.savefig(r'C:\\Users\\Marti\\OneDrive\\Skrivebord\\Prototype\\Frontend\\Angular\\src\\assets\\PL_DataBase\\Fulham\\FW\\Neeskens Kebano.png', transparent=True, dpi=72)\n",
    "\n",
    "percentile_chart('Ademola Lookman') \n",
    "plt.savefig(r'C:\\Users\\Marti\\OneDrive\\Skrivebord\\Prototype\\Frontend\\Angular\\src\\assets\\PL_DataBase\\Fulham\\FW\\Ademola Lookman.png', transparent=True, dpi=72)\n",
    "\n",
    "percentile_chart('Josh Maja') \n",
    "plt.savefig(r'C:\\Users\\Marti\\OneDrive\\Skrivebord\\Prototype\\Frontend\\Angular\\src\\assets\\PL_DataBase\\Fulham\\FW\\Josh Maja.png', transparent=True, dpi=72)\n",
    "\n",
    "percentile_chart('Aleksandar Mitrović') \n",
    "plt.savefig(r'C:\\Users\\Marti\\OneDrive\\Skrivebord\\Prototype\\Frontend\\Angular\\src\\assets\\PL_DataBase\\Fulham\\FW\\Aleksandar Mitrović.png', transparent=True, dpi=72)\n"
   ]
  },
  {
   "cell_type": "code",
   "execution_count": null,
   "metadata": {
    "scrolled": false
   },
   "outputs": [],
   "source": [
    "#Leeds United\n",
    "\n",
    "percentile_chart('Patrick Bamford') \n",
    "plt.savefig(r'C:\\Users\\Marti\\OneDrive\\Skrivebord\\Prototype\\Frontend\\Angular\\src\\assets\\PL_DataBase\\Leeds United\\FW\\Patrick Bamford.png', transparent=True, dpi=72)"
   ]
  },
  {
   "cell_type": "code",
   "execution_count": null,
   "metadata": {
    "scrolled": false
   },
   "outputs": [],
   "source": [
    "#Leicester City\n",
    "\n",
    "percentile_chart('Harvey Barnes') \n",
    "plt.savefig(r'C:\\Users\\Marti\\OneDrive\\Skrivebord\\Prototype\\Frontend\\Angular\\src\\assets\\PL_DataBase\\Leicester\\FW\\Harvey Barnes.png', transparent=True, dpi=72)\n",
    "\n",
    "percentile_chart('Kelechi Iheanacho') \n",
    "plt.savefig(r'C:\\Users\\Marti\\OneDrive\\Skrivebord\\Prototype\\Frontend\\Angular\\src\\assets\\PL_DataBase\\Leicester\\FW\\Kelechi Iheanacho.png', transparent=True, dpi=72)\n",
    "\n",
    "percentile_chart('Jamie Vardy') \n",
    "plt.savefig(r'C:\\Users\\Marti\\OneDrive\\Skrivebord\\Prototype\\Frontend\\Angular\\src\\assets\\PL_DataBase\\Leicester\\FW\\Jamie Vardy.png', transparent=True, dpi=72)"
   ]
  },
  {
   "cell_type": "code",
   "execution_count": null,
   "metadata": {
    "scrolled": false
   },
   "outputs": [],
   "source": [
    "#Liverpool\n",
    "\n",
    "percentile_chart('Roberto Firmino') \n",
    "plt.savefig(r'C:\\Users\\Marti\\OneDrive\\Skrivebord\\Prototype\\Frontend\\Angular\\src\\assets\\PL_DataBase\\Liverpool\\FW\\Roberto Firmino.png', transparent=True, dpi=72)\n",
    "\n",
    "percentile_chart('Diogo Jota') \n",
    "plt.savefig(r'C:\\Users\\Marti\\OneDrive\\Skrivebord\\Prototype\\Frontend\\Angular\\src\\assets\\PL_DataBase\\Liverpool\\FW\\Diogo Jota.png', transparent=True, dpi=72)\n",
    "\n",
    "percentile_chart('Sadio Mané') \n",
    "plt.savefig(r'C:\\Users\\Marti\\OneDrive\\Skrivebord\\Prototype\\Frontend\\Angular\\src\\assets\\PL_DataBase\\Liverpool\\FW\\Sadio Mané.png', transparent=True, dpi=72)\n",
    "\n",
    "percentile_chart('Divock Origi') \n",
    "plt.savefig(r'C:\\Users\\Marti\\OneDrive\\Skrivebord\\Prototype\\Frontend\\Angular\\src\\assets\\PL_DataBase\\Liverpool\\FW\\Divock Origi.png', transparent=True, dpi=72)\n",
    "\n",
    "#percentile_chart('Alex Oxlade-Chamberlain') \n",
    "#plt.savefig(r'C:\\Users\\Marti\\OneDrive\\Skrivebord\\Prototype\\Frontend\\Angular\\src\\assets\\PL_DataBase\\Liverpool\\FW\\Alex Oxlade-Chamberlain.png', transparent=True, dpi=72)\n",
    "\n",
    "percentile_chart('Mohamed Salah') \n",
    "plt.savefig(r'C:\\Users\\Marti\\OneDrive\\Skrivebord\\Prototype\\Frontend\\Angular\\src\\assets\\PL_DataBase\\Liverpool\\FW\\Mohamed Salah.png', transparent=True, dpi=72)"
   ]
  },
  {
   "cell_type": "code",
   "execution_count": null,
   "metadata": {
    "scrolled": false
   },
   "outputs": [],
   "source": [
    "#Manchester City\n",
    "\n",
    "percentile_chart('Sergio Agüero') \n",
    "plt.savefig(r'C:\\Users\\Marti\\OneDrive\\Skrivebord\\Prototype\\Frontend\\Angular\\src\\assets\\PL_DataBase\\Manchester City\\FW\\Sergio Agüero.png', transparent=True, dpi=72)\n",
    "\n",
    "percentile_chart('Phil Foden') \n",
    "plt.savefig(r'C:\\Users\\Marti\\OneDrive\\Skrivebord\\Prototype\\Frontend\\Angular\\src\\assets\\PL_DataBase\\Manchester City\\FW\\Phil Foden.png', transparent=True, dpi=72)\n",
    "\n",
    "percentile_chart('Gabriel Jesus') \n",
    "plt.savefig(r'C:\\Users\\Marti\\OneDrive\\Skrivebord\\Prototype\\Frontend\\Angular\\src\\assets\\PL_DataBase\\Manchester City\\FW\\Gabriel Jesus.png', transparent=True, dpi=72)\n",
    "\n",
    "percentile_chart('Riyad Mahrez') \n",
    "plt.savefig(r'C:\\Users\\Marti\\OneDrive\\Skrivebord\\Prototype\\Frontend\\Angular\\src\\assets\\PL_DataBase\\Manchester City\\FW\\Riyad Mahrez.png', transparent=True, dpi=72)\n",
    "\n",
    "percentile_chart('Raheem Sterling') \n",
    "plt.savefig(r'C:\\Users\\Marti\\OneDrive\\Skrivebord\\Prototype\\Frontend\\Angular\\src\\assets\\PL_DataBase\\Manchester City\\FW\\Raheem Sterling.png', transparent=True, dpi=72)\n",
    "\n",
    "percentile_chart('Ferrán Torres') \n",
    "plt.savefig(r'C:\\Users\\Marti\\OneDrive\\Skrivebord\\Prototype\\Frontend\\Angular\\src\\assets\\PL_DataBase\\Manchester City\\FW\\Ferrán Torres.png', transparent=True, dpi=72)"
   ]
  },
  {
   "cell_type": "code",
   "execution_count": null,
   "metadata": {
    "scrolled": false
   },
   "outputs": [],
   "source": [
    "#Manchester United\n",
    "\n",
    "percentile_chart('Edinson Cavani') \n",
    "plt.savefig(r'C:\\Users\\Marti\\OneDrive\\Skrivebord\\Prototype\\Frontend\\Angular\\src\\assets\\PL_DataBase\\Manchester United\\FW\\Edinson Cavani.png', transparent=True, dpi=72)\n",
    "\n",
    "percentile_chart('Mason Greenwood') \n",
    "plt.savefig(r'C:\\Users\\Marti\\OneDrive\\Skrivebord\\Prototype\\Frontend\\Angular\\src\\assets\\PL_DataBase\\Manchester United\\FW\\Mason Greenwood.png', transparent=True, dpi=72)\n",
    "\n",
    "percentile_chart('Daniel James') \n",
    "plt.savefig(r'C:\\Users\\Marti\\OneDrive\\Skrivebord\\Prototype\\Frontend\\Angular\\src\\assets\\PL_DataBase\\Manchester United\\FW\\Daniel James.png', transparent=True, dpi=72)\n",
    "\n",
    "percentile_chart('Anthony Martial') \n",
    "plt.savefig(r'C:\\Users\\Marti\\OneDrive\\Skrivebord\\Prototype\\Frontend\\Angular\\src\\assets\\PL_DataBase\\Manchester United\\FW\\Anthony Martial.png', transparent=True, dpi=72)\n",
    "\n",
    "percentile_chart('Juan Mata') \n",
    "plt.savefig(r'C:\\Users\\Marti\\OneDrive\\Skrivebord\\Prototype\\Frontend\\Angular\\src\\assets\\PL_DataBase\\Manchester United\\FW\\Juan Mata.png', transparent=True, dpi=72)\n",
    "\n",
    "percentile_chart('Marcus Rashford') \n",
    "plt.savefig(r'C:\\Users\\Marti\\OneDrive\\Skrivebord\\Prototype\\Frontend\\Angular\\src\\assets\\PL_DataBase\\Manchester United\\FW\\Marcus Rashford.png', transparent=True, dpi=72)"
   ]
  },
  {
   "cell_type": "code",
   "execution_count": null,
   "metadata": {
    "scrolled": false
   },
   "outputs": [],
   "source": [
    "#Newcastle United\n",
    "\n",
    "percentile_chart('Andy Carroll') \n",
    "plt.savefig(r'C:\\Users\\Marti\\OneDrive\\Skrivebord\\Prototype\\Frontend\\Angular\\src\\assets\\PL_DataBase\\Newcastle United\\FW\\Andy Carroll.png', transparent=True, dpi=72)\n",
    "\n",
    "percentile_chart('Dwight Gayle') \n",
    "plt.savefig(r'C:\\Users\\Marti\\OneDrive\\Skrivebord\\Prototype\\Frontend\\Angular\\src\\assets\\PL_DataBase\\Newcastle United\\FW\\Dwight Gayle.png', transparent=True, dpi=72)\n",
    "\n",
    "percentile_chart('Joelinton') \n",
    "plt.savefig(r'C:\\Users\\Marti\\OneDrive\\Skrivebord\\Prototype\\Frontend\\Angular\\src\\assets\\PL_DataBase\\Newcastle United\\FW\\Joelinton.png', transparent=True, dpi=72)\n",
    "\n",
    "percentile_chart('Allan Saint-Maximin') \n",
    "plt.savefig(r'C:\\Users\\Marti\\OneDrive\\Skrivebord\\Prototype\\Frontend\\Angular\\src\\assets\\PL_DataBase\\Newcastle United\\FW\\Allan Saint-Maximin.png', transparent=True, dpi=72)\n",
    "\n",
    "percentile_chart('Callum Wilson') \n",
    "plt.savefig(r'C:\\Users\\Marti\\OneDrive\\Skrivebord\\Prototype\\Frontend\\Angular\\src\\assets\\PL_DataBase\\Newcastle United\\FW\\Callum Wilson.png', transparent=True, dpi=72)\n",
    "\n",
    "percentile_chart('Ryan Fraser') \n",
    "plt.savefig(r'C:\\Users\\Marti\\OneDrive\\Skrivebord\\Prototype\\Frontend\\Angular\\src\\assets\\PL_DataBase\\Newcastle United\\MF\\Ryan Fraser.png', transparent=True, dpi=72)\n"
   ]
  },
  {
   "cell_type": "code",
   "execution_count": null,
   "metadata": {
    "scrolled": false
   },
   "outputs": [],
   "source": [
    "#Sheffield United\n",
    "\n",
    "percentile_chart('Rhian Brewster') \n",
    "plt.savefig(r'C:\\Users\\Marti\\OneDrive\\Skrivebord\\Prototype\\Frontend\\Angular\\src\\assets\\PL_DataBase\\Sheffield United\\FW\\Rhian Brewster.png', transparent=True, dpi=72)\n",
    "\n",
    "percentile_chart('Oliver Burke') \n",
    "plt.savefig(r'C:\\Users\\Marti\\OneDrive\\Skrivebord\\Prototype\\Frontend\\Angular\\src\\assets\\PL_DataBase\\Sheffield United\\FW\\Oliver Burke.png', transparent=True, dpi=72)\n",
    "\n",
    "percentile_chart('Oliver McBurnie') \n",
    "plt.savefig(r'C:\\Users\\Marti\\OneDrive\\Skrivebord\\Prototype\\Frontend\\Angular\\src\\assets\\PL_DataBase\\Sheffield United\\FW\\Oliver McBurnie.png', transparent=True, dpi=72)\n",
    "\n",
    "percentile_chart('David McGoldrick') \n",
    "plt.savefig(r'C:\\Users\\Marti\\OneDrive\\Skrivebord\\Prototype\\Frontend\\Angular\\src\\assets\\PL_DataBase\\Sheffield United\\FW\\David McGoldrick.png', transparent=True, dpi=72)\n",
    "\n",
    "percentile_chart('Lys Mousset') \n",
    "plt.savefig(r'C:\\Users\\Marti\\OneDrive\\Skrivebord\\Prototype\\Frontend\\Angular\\src\\assets\\PL_DataBase\\Sheffield United\\FW\\Lys Mousset.png', transparent=True, dpi=72)\n",
    "\n",
    "percentile_chart('Billy Sharp') \n",
    "plt.savefig(r'C:\\Users\\Marti\\OneDrive\\Skrivebord\\Prototype\\Frontend\\Angular\\src\\assets\\PL_DataBase\\Sheffield United\\FW\\Billy Sharp.png', transparent=True, dpi=72)"
   ]
  },
  {
   "cell_type": "code",
   "execution_count": null,
   "metadata": {
    "scrolled": false
   },
   "outputs": [],
   "source": [
    "#Southampton\n",
    "\n",
    "percentile_chart('Che Adams') \n",
    "plt.savefig(r'C:\\Users\\Marti\\OneDrive\\Skrivebord\\Prototype\\Frontend\\Angular\\src\\assets\\PL_DataBase\\Southampton\\FW\\Che Adams.png', transparent=True, dpi=72)\n",
    "\n",
    "percentile_chart('Danny Ings') \n",
    "plt.savefig(r'C:\\Users\\Marti\\OneDrive\\Skrivebord\\Prototype\\Frontend\\Angular\\src\\assets\\PL_DataBase\\Southampton\\FW\\Danny Ings.png', transparent=True, dpi=72)\n",
    "\n",
    "percentile_chart('Shane Long') \n",
    "plt.savefig(r'C:\\Users\\Marti\\OneDrive\\Skrivebord\\Prototype\\Frontend\\Angular\\src\\assets\\PL_DataBase\\Southampton\\FW\\Shane Long.png', transparent=True, dpi=72)\n",
    "\n",
    "percentile_chart('Dan Nlundulu') \n",
    "plt.savefig(r'C:\\Users\\Marti\\OneDrive\\Skrivebord\\Prototype\\Frontend\\Angular\\src\\assets\\PL_DataBase\\Southampton\\FW\\Dan Nlundulu.png', transparent=True, dpi=72)\n",
    "\n",
    "percentile_chart('Nathan Tella') \n",
    "plt.savefig(r'C:\\Users\\Marti\\OneDrive\\Skrivebord\\Prototype\\Frontend\\Angular\\src\\assets\\PL_DataBase\\Southampton\\FW\\Nathan Tella.png', transparent=True, dpi=72)"
   ]
  },
  {
   "cell_type": "code",
   "execution_count": null,
   "metadata": {
    "scrolled": false
   },
   "outputs": [],
   "source": [
    "#Tottenham\n",
    "\n",
    "percentile_chart('Gareth Bale') \n",
    "plt.savefig(r'C:\\Users\\Marti\\OneDrive\\Skrivebord\\Prototype\\Frontend\\Angular\\src\\assets\\PL_DataBase\\Tottenham\\FW\\Gareth Bale.png', transparent=True, dpi=72)\n",
    "\n",
    "percentile_chart('Steven Bergwijn') \n",
    "plt.savefig(r'C:\\Users\\Marti\\OneDrive\\Skrivebord\\Prototype\\Frontend\\Angular\\src\\assets\\PL_DataBase\\Tottenham\\FW\\Steven Bergwijn.png', transparent=True, dpi=72)\n",
    "\n",
    "percentile_chart('Son Heung-min') \n",
    "plt.savefig(r'C:\\Users\\Marti\\OneDrive\\Skrivebord\\Prototype\\Frontend\\Angular\\src\\assets\\PL_DataBase\\Tottenham\\FW\\Son Heung-min.png', transparent=True, dpi=72)\n",
    "\n",
    "percentile_chart('Harry Kane') \n",
    "plt.savefig(r'C:\\Users\\Marti\\OneDrive\\Skrivebord\\Prototype\\Frontend\\Angular\\src\\assets\\PL_DataBase\\Tottenham\\FW\\Harry Kane.png', transparent=True, dpi=72)\n",
    "\n",
    "percentile_chart('Érik Lamela') \n",
    "plt.savefig(r'C:\\Users\\Marti\\OneDrive\\Skrivebord\\Prototype\\Frontend\\Angular\\src\\assets\\PL_DataBase\\Tottenham\\FW\\Érik Lamela.png', transparent=True, dpi=72)\n",
    "\n",
    "percentile_chart('Lucas Moura') \n",
    "plt.savefig(r'C:\\Users\\Marti\\OneDrive\\Skrivebord\\Prototype\\Frontend\\Angular\\src\\assets\\PL_DataBase\\Tottenham\\FW\\Lucas Moura.png', transparent=True, dpi=72)\n",
    "\n",
    "percentile_chart('Carlos Vinícius') \n",
    "plt.savefig(r'C:\\Users\\Marti\\OneDrive\\Skrivebord\\Prototype\\Frontend\\Angular\\src\\assets\\PL_DataBase\\Tottenham\\FW\\Carlos Vinícius.png', transparent=True, dpi=72)"
   ]
  },
  {
   "cell_type": "code",
   "execution_count": null,
   "metadata": {
    "scrolled": false
   },
   "outputs": [],
   "source": [
    "#West Brom\n",
    "\n",
    "percentile_chart('Charlie Austin') \n",
    "plt.savefig(r'C:\\Users\\Marti\\OneDrive\\Skrivebord\\Prototype\\Frontend\\Angular\\src\\assets\\PL_DataBase\\West Bromwich Albion\\FW\\Charlie Austin.png', transparent=True, dpi=72)\n",
    "\n",
    "percentile_chart('Mbaye Diagne') \n",
    "plt.savefig(r'C:\\Users\\Marti\\OneDrive\\Skrivebord\\Prototype\\Frontend\\Angular\\src\\assets\\PL_DataBase\\West Bromwich Albion\\FW\\Mbaye Diagne.png', transparent=True, dpi=72)\n",
    "\n",
    "percentile_chart('Karlan Grant') \n",
    "plt.savefig(r'C:\\Users\\Marti\\OneDrive\\Skrivebord\\Prototype\\Frontend\\Angular\\src\\assets\\PL_DataBase\\West Bromwich Albion\\FW\\Karlan Grant.png', transparent=True, dpi=72)\n",
    "\n",
    "percentile_chart('Kamil Grosicki') \n",
    "plt.savefig(r'C:\\Users\\Marti\\OneDrive\\Skrivebord\\Prototype\\Frontend\\Angular\\src\\assets\\PL_DataBase\\West Bromwich Albion\\FW\\Kamil Grosicki.png', transparent=True, dpi=72)\n",
    "\n",
    "percentile_chart('Callum Robinson') \n",
    "plt.savefig(r'C:\\Users\\Marti\\OneDrive\\Skrivebord\\Prototype\\Frontend\\Angular\\src\\assets\\PL_DataBase\\West Bromwich Albion\\FW\\Callum Robinson.png', transparent=True, dpi=72)\n",
    "\n",
    "percentile_chart('Hal Robson-Kanu') \n",
    "plt.savefig(r'C:\\Users\\Marti\\OneDrive\\Skrivebord\\Prototype\\Frontend\\Angular\\src\\assets\\PL_DataBase\\West Bromwich Albion\\FW\\Hal Robson-Kanu.png', transparent=True, dpi=72)"
   ]
  },
  {
   "cell_type": "code",
   "execution_count": null,
   "metadata": {
    "scrolled": false
   },
   "outputs": [],
   "source": [
    "#West Ham\n",
    "percentile_chart('Saïd Benrahma') \n",
    "plt.savefig(r'C:\\Users\\Marti\\OneDrive\\Skrivebord\\Prototype\\Frontend\\Angular\\src\\assets\\PL_DataBase\\West Ham\\FW\\Saïd Benrahma.png', transparent=True, dpi=72)\n",
    "\n",
    "percentile_chart('Michail Antonio') \n",
    "plt.savefig(r'C:\\Users\\Marti\\OneDrive\\Skrivebord\\Prototype\\Frontend\\Angular\\src\\assets\\PL_DataBase\\West Ham\\FW\\Michail Antonio.png', transparent=True, dpi=72)\n",
    "\n",
    "percentile_chart('Jarrod Bowen') \n",
    "plt.savefig(r'C:\\Users\\Marti\\OneDrive\\Skrivebord\\Prototype\\Frontend\\Angular\\src\\assets\\PL_DataBase\\West Ham\\FW\\Jarrod Bowen.png', transparent=True, dpi=72)\n",
    "\n",
    "percentile_chart('Pablo Fornals') \n",
    "plt.savefig(r'C:\\Users\\Marti\\OneDrive\\Skrivebord\\Prototype\\Frontend\\Angular\\src\\assets\\PL_DataBase\\West Ham\\FW\\Pablo Fornals.png', transparent=True, dpi=72)\n",
    "\n",
    "percentile_chart('Andriy Yarmolenko') \n",
    "plt.savefig(r'C:\\Users\\Marti\\OneDrive\\Skrivebord\\Prototype\\Frontend\\Angular\\src\\assets\\PL_DataBase\\West Ham\\FW\\Andriy Yarmolenko.png', transparent=True, dpi=72)"
   ]
  },
  {
   "cell_type": "code",
   "execution_count": null,
   "metadata": {
    "scrolled": false
   },
   "outputs": [],
   "source": [
    "#Wolves\n",
    "\n",
    "percentile_chart('Morgan Gibbs-White') \n",
    "plt.savefig(r'C:\\Users\\Marti\\OneDrive\\Skrivebord\\Prototype\\Frontend\\Angular\\src\\assets\\PL_DataBase\\Wolverhampton\\FW\\Morgan Gibbs-White.png', transparent=True, dpi=72)\n",
    "\n",
    "percentile_chart('Raúl Jiménez') \n",
    "plt.savefig(r'C:\\Users\\Marti\\OneDrive\\Skrivebord\\Prototype\\Frontend\\Angular\\src\\assets\\PL_DataBase\\Wolverhampton\\FW\\Raúl Jiménez.png', transparent=True, dpi=72)\n",
    "\n",
    "percentile_chart('Willian José') \n",
    "plt.savefig(r'C:\\Users\\Marti\\OneDrive\\Skrivebord\\Prototype\\Frontend\\Angular\\src\\assets\\PL_DataBase\\Wolverhampton\\FW\\Willian José.png', transparent=True, dpi=72)\n",
    "\n",
    "percentile_chart('Pedro Neto') \n",
    "plt.savefig(r'C:\\Users\\Marti\\OneDrive\\Skrivebord\\Prototype\\Frontend\\Angular\\src\\assets\\PL_DataBase\\Wolverhampton\\FW\\Pedro Neto.png', transparent=True, dpi=72)\n",
    "\n",
    "percentile_chart('Fábio Silva') \n",
    "plt.savefig(r'C:\\Users\\Marti\\OneDrive\\Skrivebord\\Prototype\\Frontend\\Angular\\src\\assets\\PL_DataBase\\Wolverhampton\\FW\\Fábio Silva.png', transparent=True, dpi=72)\n",
    "\n",
    "percentile_chart('Adama Traoré') \n",
    "plt.savefig(r'C:\\Users\\Marti\\OneDrive\\Skrivebord\\Prototype\\Frontend\\Angular\\src\\assets\\PL_DataBase\\Wolverhampton\\FW\\Adama Traoré.png', transparent=True, dpi=72)"
   ]
  },
  {
   "cell_type": "code",
   "execution_count": null,
   "metadata": {},
   "outputs": [],
   "source": [
    "def directory(squad_name):\n",
    "\n",
    "    players = passing_percentiles['squad'] == squad_name\n",
    "    return passing_percentiles[players] "
   ]
  },
  {
   "cell_type": "code",
   "execution_count": null,
   "metadata": {},
   "outputs": [],
   "source": [
    "directory('Arsenal')"
   ]
  }
 ],
 "metadata": {
  "kernelspec": {
   "name": "python3",
   "display_name": "Python 3.8.5 64-bit ('base': conda)"
  },
  "language_info": {
   "codemirror_mode": {
    "name": "ipython",
    "version": 3
   },
   "file_extension": ".py",
   "mimetype": "text/x-python",
   "name": "python",
   "nbconvert_exporter": "python",
   "pygments_lexer": "ipython3",
   "version": "3.8.5"
  },
  "interpreter": {
   "hash": "07ea867488a4c0f010368e6665dbb5a3afe646935df4b8f7bba12bcc39c7e285"
  }
 },
 "nbformat": 4,
 "nbformat_minor": 4
}